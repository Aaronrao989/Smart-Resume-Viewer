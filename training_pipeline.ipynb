{
 "cells": [
  {
   "cell_type": "markdown",
   "id": "f6b33db5",
   "metadata": {},
   "source": [
    "# Training Pipeline: Build Role Knowledge Base & Artifacts\n",
    "\n",
    "This notebook loads your UTF-8 CSV, builds:\n",
    "- A FAISS embedding index over role guidance text\n",
    "- A TF-IDF job-role matcher\n",
    "- A unified skills vocabulary\n",
    "- Per-role prompt skeletons\n",
    "\n",
    "Artifacts are saved to `../artifacts/` and used by the Streamlit app."
   ]
  },
  {
   "cell_type": "code",
   "execution_count": 1,
   "id": "7202bc56",
   "metadata": {},
   "outputs": [
    {
     "name": "stdout",
     "output_type": "stream",
     "text": [
      "ROOT: /Users/aaronrao/Desktop/projects/HCL\n",
      "DATA: /Users/aaronrao/Desktop/projects/HCL/data\n",
      "ART: /Users/aaronrao/Desktop/projects/HCL/artifacts\n"
     ]
    }
   ],
   "source": [
    "import os, sys, pandas as pd\n",
    "from pathlib import Path\n",
    "\n",
    "ROOT = Path.cwd().resolve().parent\n",
    "DATA = ROOT / 'data'\n",
    "ART = ROOT / 'artifacts'\n",
    "print('ROOT:', ROOT)\n",
    "print('DATA:', DATA)\n",
    "print('ART:', ART)\n",
    "\n",
    "os.makedirs(ART, exist_ok=True)"
   ]
  },
  {
   "cell_type": "code",
   "execution_count": 2,
   "id": "a5ee044b",
   "metadata": {},
   "outputs": [],
   "source": [
    "!pip -q install -r requirements.txt"
   ]
  },
  {
   "cell_type": "markdown",
   "id": "6468c558",
   "metadata": {},
   "source": [
    "## 1) Load CSV\n",
    "Place your CSV at `../data/jobs.csv` or adjust the path below."
   ]
  },
  {
   "cell_type": "code",
   "execution_count": 3,
   "id": "2bba1c95",
   "metadata": {},
   "outputs": [
    {
     "data": {
      "text/html": [
       "<div>\n",
       "<style scoped>\n",
       "    .dataframe tbody tr th:only-of-type {\n",
       "        vertical-align: middle;\n",
       "    }\n",
       "\n",
       "    .dataframe tbody tr th {\n",
       "        vertical-align: top;\n",
       "    }\n",
       "\n",
       "    .dataframe thead th {\n",
       "        text-align: right;\n",
       "    }\n",
       "</style>\n",
       "<table border=\"1\" class=\"dataframe\">\n",
       "  <thead>\n",
       "    <tr style=\"text-align: right;\">\n",
       "      <th></th>\n",
       "      <th>job_position</th>\n",
       "      <th>relevant_skills</th>\n",
       "      <th>required_qualifications</th>\n",
       "      <th>job_responsibilities</th>\n",
       "      <th>ideal_candidate_summary</th>\n",
       "    </tr>\n",
       "  </thead>\n",
       "  <tbody>\n",
       "    <tr>\n",
       "      <th>0</th>\n",
       "      <td>Hearing Care Provider</td>\n",
       "      <td>Hearing Aid Dispensing License. Audiometric eq...</td>\n",
       "      <td>Maintain an active Hearing Aid Dispensing Lice...</td>\n",
       "      <td>Provide quality care and aftercare of dispensi...</td>\n",
       "      <td>The ideal candidate is a skilled professional ...</td>\n",
       "    </tr>\n",
       "    <tr>\n",
       "      <th>1</th>\n",
       "      <td>Shipping &amp; Receiving Associate 2nd shift</td>\n",
       "      <td>Material handling. Forklift operation. Attenti...</td>\n",
       "      <td>2+ years previous inbound/outbound logistics e...</td>\n",
       "      <td>Pack and prepare customer orders for shipping....</td>\n",
       "      <td>The ideal candidate is detail-oriented, self-m...</td>\n",
       "    </tr>\n",
       "    <tr>\n",
       "      <th>2</th>\n",
       "      <td>Engineering Manager</td>\n",
       "      <td>Project management. Engineering design. Automo...</td>\n",
       "      <td>nan</td>\n",
       "      <td>Plan and direct engineering directives. Establ...</td>\n",
       "      <td>The ideal candidate will have strong leadershi...</td>\n",
       "    </tr>\n",
       "    <tr>\n",
       "      <th>3</th>\n",
       "      <td>Cook</td>\n",
       "      <td>Culinary skills. Food preparation. Recipe adhe...</td>\n",
       "      <td>Associates degree in culinary arts. 3 years of...</td>\n",
       "      <td>Oversee the work of kitchen staff. Ensure prot...</td>\n",
       "      <td>A dedicated culinary professional with experie...</td>\n",
       "    </tr>\n",
       "    <tr>\n",
       "      <th>4</th>\n",
       "      <td>Principal Cloud Security Engineer/Architect</td>\n",
       "      <td>AWS Security Pillar. Cloud security architectu...</td>\n",
       "      <td>8+ years of experience securing enterprise-sca...</td>\n",
       "      <td>Define, build, and maintain cloud security pol...</td>\n",
       "      <td>A self-starter with a strong work ethic, excel...</td>\n",
       "    </tr>\n",
       "  </tbody>\n",
       "</table>\n",
       "</div>"
      ],
      "text/plain": [
       "                                  job_position  \\\n",
       "0                        Hearing Care Provider   \n",
       "1     Shipping & Receiving Associate 2nd shift   \n",
       "2                          Engineering Manager   \n",
       "3                                         Cook   \n",
       "4  Principal Cloud Security Engineer/Architect   \n",
       "\n",
       "                                     relevant_skills  \\\n",
       "0  Hearing Aid Dispensing License. Audiometric eq...   \n",
       "1  Material handling. Forklift operation. Attenti...   \n",
       "2  Project management. Engineering design. Automo...   \n",
       "3  Culinary skills. Food preparation. Recipe adhe...   \n",
       "4  AWS Security Pillar. Cloud security architectu...   \n",
       "\n",
       "                             required_qualifications  \\\n",
       "0  Maintain an active Hearing Aid Dispensing Lice...   \n",
       "1  2+ years previous inbound/outbound logistics e...   \n",
       "2                                                nan   \n",
       "3  Associates degree in culinary arts. 3 years of...   \n",
       "4  8+ years of experience securing enterprise-sca...   \n",
       "\n",
       "                                job_responsibilities  \\\n",
       "0  Provide quality care and aftercare of dispensi...   \n",
       "1  Pack and prepare customer orders for shipping....   \n",
       "2  Plan and direct engineering directives. Establ...   \n",
       "3  Oversee the work of kitchen staff. Ensure prot...   \n",
       "4  Define, build, and maintain cloud security pol...   \n",
       "\n",
       "                             ideal_candidate_summary  \n",
       "0  The ideal candidate is a skilled professional ...  \n",
       "1  The ideal candidate is detail-oriented, self-m...  \n",
       "2  The ideal candidate will have strong leadershi...  \n",
       "3  A dedicated culinary professional with experie...  \n",
       "4  A self-starter with a strong work ethic, excel...  "
      ]
     },
     "execution_count": 3,
     "metadata": {},
     "output_type": "execute_result"
    }
   ],
   "source": [
    "from pathlib import Path\n",
    "import pandas as pd\n",
    "\n",
    "CSV_PATH = Path(\"/Users/aaronrao/Desktop/projects/HCL/smart resume viewer/sample_jobs.csv\")\n",
    "\n",
    "# Read CSV with UTF-8 encoding\n",
    "df = pd.read_csv(CSV_PATH, encoding=\"utf-8\")\n",
    "\n",
    "# Clean non-UTF characters from all string columns\n",
    "for col in df.select_dtypes(include='object').columns:\n",
    "    df[col] = df[col].map(lambda x: str(x).encode('utf-8', errors='ignore').decode('utf-8'))\n",
    "\n",
    "# Check the first few rows\n",
    "df.head()"
   ]
  },
  {
   "cell_type": "markdown",
   "id": "cbc8044c",
   "metadata": {},
   "source": [
    "## 2) Build & Save Artifacts\n",
    "Uses `JDIndex` helper to produce FAISS index, TF-IDF matcher, skills vocab, and role prompts."
   ]
  },
  {
   "cell_type": "code",
   "execution_count": 4,
   "id": "983fa2ad",
   "metadata": {},
   "outputs": [],
   "source": [
    "from pathlib import Path\n",
    "import sys\n",
    "import os\n",
    "\n",
    "# Project root\n",
    "ROOT = Path(\"/Users/aaronrao/Desktop/projects/HCL/smart resume viewer\")\n",
    "\n",
    "# Add 'app' folder to sys.path so 'components' can be imported\n",
    "sys.path.insert(0, str(ROOT / \"app\"))\n",
    "\n",
    "# Ensure artifacts folder exists\n",
    "ART = ROOT / \"artifacts\"\n",
    "ART.mkdir(exist_ok=True)"
   ]
  },
  {
   "cell_type": "code",
   "execution_count": 5,
   "id": "33588054-4ac9-4ced-930a-4102c289a489",
   "metadata": {},
   "outputs": [
    {
     "name": "stdout",
     "output_type": "stream",
     "text": [
      "[jd_index] Artifact directory available at: /Users/aaronrao/Desktop/projects/HCL/smart resume viewer/artifacts\n",
      "📌 Reading CSV in chunks...\n"
     ]
    },
    {
     "name": "stderr",
     "output_type": "stream",
     "text": [
      "📂 Processing chunks: 17it [04:38, 16.37s/it]\n"
     ]
    },
    {
     "name": "stdout",
     "output_type": "stream",
     "text": [
      "✅ Total valid records: 22706\n",
      "📌 Training classifier with progress bar...\n"
     ]
    },
    {
     "name": "stderr",
     "output_type": "stream",
     "text": [
      "Training epochs: 100%|████████████████████████████████████████████████████████████████████████████████████████████████████████████████████████████████████████| 5/5 [03:03<00:00, 36.76s/it]\n"
     ]
    },
    {
     "name": "stdout",
     "output_type": "stream",
     "text": [
      "✅ Artifacts saved in /Users/aaronrao/Desktop/projects/HCL/smart resume viewer/artifacts, total records: 22706\n"
     ]
    }
   ],
   "source": [
    "from components.jd_index import JDIndex\n",
    "\n",
    "index = JDIndex(max_features=5000)\n",
    "index.build_from_csv(\n",
    "    \"/Users/aaronrao/Desktop/projects/HCL/smart resume viewer/sample_jobs.csv\",\n",
    "    sample_size=None  # full 33k rows\n",
    ")"
   ]
  },
  {
   "cell_type": "markdown",
   "id": "9e2d1f5a",
   "metadata": {},
   "source": [
    "## 3) Quick Sanity Test\n",
    "Query the index with a short text and predict the closest role."
   ]
  },
  {
   "cell_type": "code",
   "execution_count": 6,
   "id": "72c15f79-6b45-43d3-9482-71d9ad5c9e76",
   "metadata": {},
   "outputs": [
    {
     "name": "stdout",
     "output_type": "stream",
     "text": [
      "✅ Artifacts loaded successfully\n",
      "Top-3 similar roles:\n",
      "Senior Test Engineer 1.2922947\n",
      "IT Generalist/Python 1.4633856\n",
      "Full-Stack Software Developer 1.4807752\n",
      "\n",
      "Predicted role: Software Engineer with probability: 0.00038047357649675386\n"
     ]
    }
   ],
   "source": [
    "from components.jd_index import JDIndex\n",
    "\n",
    "# Initialize and load trained artifacts\n",
    "index = JDIndex()\n",
    "index.load()\n",
    "\n",
    "# Test input text\n",
    "test_text = \"Built classification models in Python and scikit-learn; dashboarded KPIs in SQL; A/B testing.\"\n",
    "\n",
    "# Top-3 similar roles from FAISS\n",
    "print(\"Top-3 similar roles:\")\n",
    "for r in index.query(test_text, k=3):\n",
    "    print(r['job_position'], r['score'])\n",
    "\n",
    "# Predicted role with probability from the SGDClassifier\n",
    "role, proba = index.match_role(test_text)\n",
    "print(\"\\nPredicted role:\", role, \"with probability:\", proba)"
   ]
  },
  {
   "cell_type": "markdown",
   "id": "d698070e",
   "metadata": {},
   "source": [
    "## 4) Next Steps\n",
    "- Launch the UI: `streamlit run app/app.py`\n",
    "- Provide API keys in `.env` if you want cloud LLMs.\n",
    "- Customize prompts in `artifacts/role_prompts.json`.\n",
    "- Extend ATS rules in `app/components/ats_scoring.py`."
   ]
  }
 ],
 "metadata": {
  "kernelspec": {
   "display_name": "Python (smart-resume-viewer)",
   "language": "python",
   "name": "smart-resume-viewer"
  },
  "language_info": {
   "codemirror_mode": {
    "name": "ipython",
    "version": 3
   },
   "file_extension": ".py",
   "mimetype": "text/x-python",
   "name": "python",
   "nbconvert_exporter": "python",
   "pygments_lexer": "ipython3",
   "version": "3.11.13"
  }
 },
 "nbformat": 4,
 "nbformat_minor": 5
}
